{
 "cells": [
  {
   "cell_type": "markdown",
   "id": "240d27a7-1efc-4d57-9131-a9689599e47f",
   "metadata": {
    "tags": []
   },
   "source": [
    "# 1: IMPORT DATASETS AND LIBRARIES"
   ]
  },
  {
   "cell_type": "code",
   "execution_count": 1,
   "id": "d8437061-abdf-4711-b1e1-b705c13bf69e",
   "metadata": {},
   "outputs": [],
   "source": [
    "import pandas as pd\n",
    "import numpy as np\n",
    "import seaborn as sns\n",
    "import matplotlib.pyplot as plt\n",
    "from sklearn.preprocessing import StandardScaler, normalize\n",
    "from sklearn.cluster import KMeans\n",
    "import plotly.express as px\n",
    "import plotly.graph_objects as go\n",
    "from chart_studio.plotly import plot, iplot\n",
    "from plotly.offline import iplot\n",
    "\n",
    "from sklearn.model_selection import train_test_split\n",
    "from sklearn.preprocessing import OrdinalEncoder\n",
    "from sklearn.preprocessing import LabelEncoder\n",
    "from sklearn.metrics import accuracy_score\n",
    "from sklearn.metrics import f1_score\n"
   ]
  },
  {
   "cell_type": "code",
   "execution_count": 2,
   "id": "42039a0e-2cef-4ab8-96ed-4b341682cfaa",
   "metadata": {},
   "outputs": [],
   "source": [
    "from jupyterthemes import jtplot\n",
    "jtplot.style(theme='monokai', context='notebook', ticks=True, grid=False) \n",
    "# setting the style of the notebook to be monokai theme  \n",
    "# this line of code is important to ensure that we are able to see the x and y axes clearly\n",
    "# If you don't run this code line, you will notice that the xlabel and ylabel on any plot is black on black and it will be hard to see them. \n"
   ]
  },
  {
   "cell_type": "code",
   "execution_count": 3,
   "id": "3efa0287-5b34-4f5d-b8e7-393fe7fde1fc",
   "metadata": {},
   "outputs": [],
   "source": [
    "# Import csv file into pandas dataframe\n",
    "df = pd.read_csv(\"mushrooms.csv\")"
   ]
  },
  {
   "cell_type": "code",
   "execution_count": 4,
   "id": "419dd61f-6d3f-404f-8fec-1f584b88b83a",
   "metadata": {},
   "outputs": [
    {
     "data": {
      "text/plain": [
       "(8124, 23)"
      ]
     },
     "execution_count": 4,
     "metadata": {},
     "output_type": "execute_result"
    }
   ],
   "source": [
    "df.shape"
   ]
  },
  {
   "cell_type": "code",
   "execution_count": 5,
   "id": "42d180d2-14d4-4d4d-af86-5b84f1f4d32b",
   "metadata": {},
   "outputs": [
    {
     "data": {
      "text/html": [
       "<div>\n",
       "<style scoped>\n",
       "    .dataframe tbody tr th:only-of-type {\n",
       "        vertical-align: middle;\n",
       "    }\n",
       "\n",
       "    .dataframe tbody tr th {\n",
       "        vertical-align: top;\n",
       "    }\n",
       "\n",
       "    .dataframe thead th {\n",
       "        text-align: right;\n",
       "    }\n",
       "</style>\n",
       "<table border=\"1\" class=\"dataframe\">\n",
       "  <thead>\n",
       "    <tr style=\"text-align: right;\">\n",
       "      <th></th>\n",
       "      <th>class</th>\n",
       "      <th>cap-shape</th>\n",
       "      <th>cap-surface</th>\n",
       "      <th>cap-color</th>\n",
       "      <th>bruises</th>\n",
       "      <th>odor</th>\n",
       "      <th>gill-attachment</th>\n",
       "      <th>gill-spacing</th>\n",
       "      <th>gill-size</th>\n",
       "      <th>gill-color</th>\n",
       "      <th>...</th>\n",
       "      <th>stalk-surface-below-ring</th>\n",
       "      <th>stalk-color-above-ring</th>\n",
       "      <th>stalk-color-below-ring</th>\n",
       "      <th>veil-type</th>\n",
       "      <th>veil-color</th>\n",
       "      <th>ring-number</th>\n",
       "      <th>ring-type</th>\n",
       "      <th>spore-print-color</th>\n",
       "      <th>population</th>\n",
       "      <th>habitat</th>\n",
       "    </tr>\n",
       "  </thead>\n",
       "  <tbody>\n",
       "    <tr>\n",
       "      <th>0</th>\n",
       "      <td>p</td>\n",
       "      <td>x</td>\n",
       "      <td>s</td>\n",
       "      <td>n</td>\n",
       "      <td>t</td>\n",
       "      <td>p</td>\n",
       "      <td>f</td>\n",
       "      <td>c</td>\n",
       "      <td>n</td>\n",
       "      <td>k</td>\n",
       "      <td>...</td>\n",
       "      <td>s</td>\n",
       "      <td>w</td>\n",
       "      <td>w</td>\n",
       "      <td>p</td>\n",
       "      <td>w</td>\n",
       "      <td>o</td>\n",
       "      <td>p</td>\n",
       "      <td>k</td>\n",
       "      <td>s</td>\n",
       "      <td>u</td>\n",
       "    </tr>\n",
       "    <tr>\n",
       "      <th>1</th>\n",
       "      <td>e</td>\n",
       "      <td>x</td>\n",
       "      <td>s</td>\n",
       "      <td>y</td>\n",
       "      <td>t</td>\n",
       "      <td>a</td>\n",
       "      <td>f</td>\n",
       "      <td>c</td>\n",
       "      <td>b</td>\n",
       "      <td>k</td>\n",
       "      <td>...</td>\n",
       "      <td>s</td>\n",
       "      <td>w</td>\n",
       "      <td>w</td>\n",
       "      <td>p</td>\n",
       "      <td>w</td>\n",
       "      <td>o</td>\n",
       "      <td>p</td>\n",
       "      <td>n</td>\n",
       "      <td>n</td>\n",
       "      <td>g</td>\n",
       "    </tr>\n",
       "    <tr>\n",
       "      <th>2</th>\n",
       "      <td>e</td>\n",
       "      <td>b</td>\n",
       "      <td>s</td>\n",
       "      <td>w</td>\n",
       "      <td>t</td>\n",
       "      <td>l</td>\n",
       "      <td>f</td>\n",
       "      <td>c</td>\n",
       "      <td>b</td>\n",
       "      <td>n</td>\n",
       "      <td>...</td>\n",
       "      <td>s</td>\n",
       "      <td>w</td>\n",
       "      <td>w</td>\n",
       "      <td>p</td>\n",
       "      <td>w</td>\n",
       "      <td>o</td>\n",
       "      <td>p</td>\n",
       "      <td>n</td>\n",
       "      <td>n</td>\n",
       "      <td>m</td>\n",
       "    </tr>\n",
       "    <tr>\n",
       "      <th>3</th>\n",
       "      <td>p</td>\n",
       "      <td>x</td>\n",
       "      <td>y</td>\n",
       "      <td>w</td>\n",
       "      <td>t</td>\n",
       "      <td>p</td>\n",
       "      <td>f</td>\n",
       "      <td>c</td>\n",
       "      <td>n</td>\n",
       "      <td>n</td>\n",
       "      <td>...</td>\n",
       "      <td>s</td>\n",
       "      <td>w</td>\n",
       "      <td>w</td>\n",
       "      <td>p</td>\n",
       "      <td>w</td>\n",
       "      <td>o</td>\n",
       "      <td>p</td>\n",
       "      <td>k</td>\n",
       "      <td>s</td>\n",
       "      <td>u</td>\n",
       "    </tr>\n",
       "    <tr>\n",
       "      <th>4</th>\n",
       "      <td>e</td>\n",
       "      <td>x</td>\n",
       "      <td>s</td>\n",
       "      <td>g</td>\n",
       "      <td>f</td>\n",
       "      <td>n</td>\n",
       "      <td>f</td>\n",
       "      <td>w</td>\n",
       "      <td>b</td>\n",
       "      <td>k</td>\n",
       "      <td>...</td>\n",
       "      <td>s</td>\n",
       "      <td>w</td>\n",
       "      <td>w</td>\n",
       "      <td>p</td>\n",
       "      <td>w</td>\n",
       "      <td>o</td>\n",
       "      <td>e</td>\n",
       "      <td>n</td>\n",
       "      <td>a</td>\n",
       "      <td>g</td>\n",
       "    </tr>\n",
       "  </tbody>\n",
       "</table>\n",
       "<p>5 rows × 23 columns</p>\n",
       "</div>"
      ],
      "text/plain": [
       "  class cap-shape cap-surface cap-color bruises odor gill-attachment  \\\n",
       "0     p         x           s         n       t    p               f   \n",
       "1     e         x           s         y       t    a               f   \n",
       "2     e         b           s         w       t    l               f   \n",
       "3     p         x           y         w       t    p               f   \n",
       "4     e         x           s         g       f    n               f   \n",
       "\n",
       "  gill-spacing gill-size gill-color  ... stalk-surface-below-ring  \\\n",
       "0            c         n          k  ...                        s   \n",
       "1            c         b          k  ...                        s   \n",
       "2            c         b          n  ...                        s   \n",
       "3            c         n          n  ...                        s   \n",
       "4            w         b          k  ...                        s   \n",
       "\n",
       "  stalk-color-above-ring stalk-color-below-ring veil-type veil-color  \\\n",
       "0                      w                      w         p          w   \n",
       "1                      w                      w         p          w   \n",
       "2                      w                      w         p          w   \n",
       "3                      w                      w         p          w   \n",
       "4                      w                      w         p          w   \n",
       "\n",
       "  ring-number ring-type spore-print-color population habitat  \n",
       "0           o         p                 k          s       u  \n",
       "1           o         p                 n          n       g  \n",
       "2           o         p                 n          n       m  \n",
       "3           o         p                 k          s       u  \n",
       "4           o         e                 n          a       g  \n",
       "\n",
       "[5 rows x 23 columns]"
      ]
     },
     "execution_count": 5,
     "metadata": {},
     "output_type": "execute_result"
    }
   ],
   "source": [
    "# print the first 5 rows of the dataframe\n",
    "df.head()"
   ]
  },
  {
   "cell_type": "markdown",
   "id": "5e9737f2-8200-41a4-b9eb-b9917060e7f7",
   "metadata": {
    "tags": []
   },
   "source": [
    "# 2: PERFORM EXPLORATORY DATA ANALYSIS"
   ]
  },
  {
   "cell_type": "code",
   "execution_count": 6,
   "id": "e2f801c2-d284-45c0-8698-3d479858e02b",
   "metadata": {},
   "outputs": [
    {
     "name": "stdout",
     "output_type": "stream",
     "text": [
      "<class 'pandas.core.frame.DataFrame'>\n",
      "RangeIndex: 8124 entries, 0 to 8123\n",
      "Data columns (total 23 columns):\n",
      " #   Column                    Non-Null Count  Dtype \n",
      "---  ------                    --------------  ----- \n",
      " 0   class                     8124 non-null   object\n",
      " 1   cap-shape                 8124 non-null   object\n",
      " 2   cap-surface               8124 non-null   object\n",
      " 3   cap-color                 8124 non-null   object\n",
      " 4   bruises                   8124 non-null   object\n",
      " 5   odor                      8124 non-null   object\n",
      " 6   gill-attachment           8124 non-null   object\n",
      " 7   gill-spacing              8124 non-null   object\n",
      " 8   gill-size                 8124 non-null   object\n",
      " 9   gill-color                8124 non-null   object\n",
      " 10  stalk-shape               8124 non-null   object\n",
      " 11  stalk-root                8124 non-null   object\n",
      " 12  stalk-surface-above-ring  8124 non-null   object\n",
      " 13  stalk-surface-below-ring  8124 non-null   object\n",
      " 14  stalk-color-above-ring    8124 non-null   object\n",
      " 15  stalk-color-below-ring    8124 non-null   object\n",
      " 16  veil-type                 8124 non-null   object\n",
      " 17  veil-color                8124 non-null   object\n",
      " 18  ring-number               8124 non-null   object\n",
      " 19  ring-type                 8124 non-null   object\n",
      " 20  spore-print-color         8124 non-null   object\n",
      " 21  population                8124 non-null   object\n",
      " 22  habitat                   8124 non-null   object\n",
      "dtypes: object(23)\n",
      "memory usage: 1.4+ MB\n"
     ]
    }
   ],
   "source": [
    "df.info()"
   ]
  },
  {
   "cell_type": "code",
   "execution_count": 7,
   "id": "3cbcbe9f-6590-4625-bd04-f857c62b241f",
   "metadata": {},
   "outputs": [
    {
     "data": {
      "text/plain": [
       "class                       0\n",
       "cap-shape                   0\n",
       "cap-surface                 0\n",
       "cap-color                   0\n",
       "bruises                     0\n",
       "odor                        0\n",
       "gill-attachment             0\n",
       "gill-spacing                0\n",
       "gill-size                   0\n",
       "gill-color                  0\n",
       "stalk-shape                 0\n",
       "stalk-root                  0\n",
       "stalk-surface-above-ring    0\n",
       "stalk-surface-below-ring    0\n",
       "stalk-color-above-ring      0\n",
       "stalk-color-below-ring      0\n",
       "veil-type                   0\n",
       "veil-color                  0\n",
       "ring-number                 0\n",
       "ring-type                   0\n",
       "spore-print-color           0\n",
       "population                  0\n",
       "habitat                     0\n",
       "dtype: int64"
      ]
     },
     "execution_count": 7,
     "metadata": {},
     "output_type": "execute_result"
    }
   ],
   "source": [
    "df.isnull().sum()"
   ]
  },
  {
   "cell_type": "code",
   "execution_count": 8,
   "id": "ee9f0c4b-b150-4557-888b-bedb87b9a1e8",
   "metadata": {},
   "outputs": [
    {
     "data": {
      "text/plain": [
       "0"
      ]
     },
     "execution_count": 8,
     "metadata": {},
     "output_type": "execute_result"
    }
   ],
   "source": [
    "# check the number of duplicated entries in the dataframe\n",
    " # since there are no duplicates, no further action is required\n",
    "  \n",
    "df.duplicated().sum()"
   ]
  },
  {
   "cell_type": "code",
   "execution_count": 9,
   "id": "fdd3a366-3633-49b9-8f57-a29123c3b97a",
   "metadata": {},
   "outputs": [
    {
     "name": "stdout",
     "output_type": "stream",
     "text": [
      "class\n",
      "['p' 'e']\n",
      "cap-shape\n",
      "['x' 'b' 's' 'f' 'k' 'c']\n",
      "cap-surface\n",
      "['s' 'y' 'f' 'g']\n",
      "cap-color\n",
      "['n' 'y' 'w' 'g' 'e' 'p' 'b' 'u' 'c' 'r']\n",
      "bruises\n",
      "['t' 'f']\n",
      "odor\n",
      "['p' 'a' 'l' 'n' 'f' 'c' 'y' 's' 'm']\n",
      "gill-attachment\n",
      "['f' 'a']\n",
      "gill-spacing\n",
      "['c' 'w']\n",
      "gill-size\n",
      "['n' 'b']\n",
      "gill-color\n",
      "['k' 'n' 'g' 'p' 'w' 'h' 'u' 'e' 'b' 'r' 'y' 'o']\n",
      "stalk-shape\n",
      "['e' 't']\n",
      "stalk-root\n",
      "['e' 'c' 'b' 'r' '?']\n",
      "stalk-surface-above-ring\n",
      "['s' 'f' 'k' 'y']\n",
      "stalk-surface-below-ring\n",
      "['s' 'f' 'y' 'k']\n",
      "stalk-color-above-ring\n",
      "['w' 'g' 'p' 'n' 'b' 'e' 'o' 'c' 'y']\n",
      "stalk-color-below-ring\n",
      "['w' 'p' 'g' 'b' 'n' 'e' 'y' 'o' 'c']\n",
      "veil-type\n",
      "['p']\n",
      "veil-color\n",
      "['w' 'n' 'o' 'y']\n",
      "ring-number\n",
      "['o' 't' 'n']\n",
      "ring-type\n",
      "['p' 'e' 'l' 'f' 'n']\n",
      "spore-print-color\n",
      "['k' 'n' 'u' 'h' 'w' 'r' 'o' 'y' 'b']\n",
      "population\n",
      "['s' 'n' 'a' 'v' 'y' 'c']\n",
      "habitat\n",
      "['u' 'g' 'm' 'd' 'p' 'w' 'l']\n"
     ]
    }
   ],
   "source": [
    "for col in df.columns:\n",
    "    print(col)\n",
    "    print(df[col].unique())\n",
    "    "
   ]
  },
  {
   "cell_type": "code",
   "execution_count": 10,
   "id": "af2e8e8d-7a5d-472f-8d49-62504b37eb33",
   "metadata": {},
   "outputs": [
    {
     "data": {
      "text/plain": [
       "(8124, 22)"
      ]
     },
     "execution_count": 10,
     "metadata": {},
     "output_type": "execute_result"
    }
   ],
   "source": [
    "# Delete columns with variance = 0\n",
    "df.drop(columns=[col for col in df.columns if len(df[col].unique()) == 1], inplace=True)\n",
    "df.shape"
   ]
  },
  {
   "cell_type": "raw",
   "id": "3e90e269-2a1c-4a84-af15-251fd166521b",
   "metadata": {},
   "source": [
    "Most gill-color variable has different categories.\n",
    "\n",
    "Let's examine what information each of the variables contains:\n",
    "\n",
    "class: edible=e (yenilebilir), poisonous=p (zehirli) target değişken\n",
    "\n",
    "cap-shape: bell=b,conical=c,convex=x,flat=f, knobbed=k,sunken=s başının şekli\n",
    "\n",
    "cap-surface: fibrous=f,grooves=g,scaly=y,smooth=s başının dokusu\n",
    "\n",
    "cap-color: brown=n,buff=b,cinnamon=c,gray=g,green=r, pink=p,purple=u,red=e,white=w,yellow=y\n",
    "\n",
    "bruises: bruises=t,no=f morluklar\n",
    "\n",
    "odor: almond=a,anise=l,creosote=c,fishy=y,foul=f, musty=m,none=n,pungent=p,spicy=s koku\n",
    "\n",
    "gill-attachment: attached=a,descending=d,free=f,notched=n solungaç eki\n",
    "\n",
    "gill-spacing: close=c,crowded=w,distant=d solungaç aralığı\n",
    "\n",
    "gill-size: broad=b,narrow=n solungaç boyutu\n",
    "\n",
    "gill-color: black=k,brown=n,buff=b,chocolate=h,gray=g, green=r,orange=o,pink=p,purple=u,red=e, white=w,yellow=y solungaç rengi\n",
    "\n",
    "stalk-shape: enlarging=e,tapering=t sap şekli\n",
    "\n",
    "stalk-root: bulbous=b,club=c,cup=u,equal=e, rhizomorphs=z,rooted=r,missing=? sap kökü\n",
    "\n",
    "stalk-surface-above-ring: fibrous=f,scaly=y,silky=k,smooth=s sap-yüzey-üstü-halka\n",
    "\n",
    "stalk-surface-below-ring: fibrous=f,scaly=y,silky=k,smooth=s halka-alttaki sap-yüzey\n",
    "\n",
    "stalk-color-above-ring: brown=n,buff=b,cinnamon=c,gray=g,orange=o, pink=p,red=e,white=w,yellow=y sap-renk-üstü-halka\n",
    "\n",
    "stalk-color-below-ring: brown=n,buff=b,cinnamon=c,gray=g,orange=o, pink=p,red=e,white=w,yellow=y halka-renk altı\n",
    "\n",
    "veil-type: partial=p,universal=u peçe-tipi\n",
    "\n",
    "veil-color: brown=n,orange=o,white=w,yellow=y peçe rengi\n",
    "\n",
    "ring-number: none=n,one=o,two=t zil numarası\n",
    "\n",
    "ring-type: cobwebby=c,evanescent=e,flaring=f,large=l, none=n,pendant=p,sheathing=s,zone=z halka tipi\n",
    "\n",
    "spore-print-color: black=k,brown=n,buff=b,chocolate=h,green=r, orange=o,purple=u,white=w,yellow=y spor-baskı-renk\n",
    "\n",
    "population: abundant=a,clustered=c,numerous=n, scattered=s,several=v,solitary=y popülasyon\n",
    "\n",
    "habitat: grasses=g,leaves=l,meadows=m,paths=p, urban=u,waste=w,woods=d habitat"
   ]
  },
  {
   "cell_type": "code",
   "execution_count": 74,
   "id": "17e69170-0ff5-4d17-98e8-af5d04ecc1f3",
   "metadata": {},
   "outputs": [
    {
     "data": {
      "text/html": [
       "<div>\n",
       "<style scoped>\n",
       "    .dataframe tbody tr th:only-of-type {\n",
       "        vertical-align: middle;\n",
       "    }\n",
       "\n",
       "    .dataframe tbody tr th {\n",
       "        vertical-align: top;\n",
       "    }\n",
       "\n",
       "    .dataframe thead th {\n",
       "        text-align: right;\n",
       "    }\n",
       "</style>\n",
       "<table border=\"1\" class=\"dataframe\">\n",
       "  <thead>\n",
       "    <tr style=\"text-align: right;\">\n",
       "      <th></th>\n",
       "      <th>cap-shape</th>\n",
       "      <th>cap-surface</th>\n",
       "      <th>cap-color</th>\n",
       "      <th>bruises</th>\n",
       "      <th>odor</th>\n",
       "      <th>gill-attachment</th>\n",
       "      <th>gill-spacing</th>\n",
       "      <th>gill-size</th>\n",
       "      <th>gill-color</th>\n",
       "      <th>stalk-shape</th>\n",
       "      <th>...</th>\n",
       "      <th>stalk-surface-above-ring</th>\n",
       "      <th>stalk-surface-below-ring</th>\n",
       "      <th>stalk-color-above-ring</th>\n",
       "      <th>stalk-color-below-ring</th>\n",
       "      <th>veil-color</th>\n",
       "      <th>ring-number</th>\n",
       "      <th>ring-type</th>\n",
       "      <th>spore-print-color</th>\n",
       "      <th>population</th>\n",
       "      <th>habitat</th>\n",
       "    </tr>\n",
       "    <tr>\n",
       "      <th>class</th>\n",
       "      <th></th>\n",
       "      <th></th>\n",
       "      <th></th>\n",
       "      <th></th>\n",
       "      <th></th>\n",
       "      <th></th>\n",
       "      <th></th>\n",
       "      <th></th>\n",
       "      <th></th>\n",
       "      <th></th>\n",
       "      <th></th>\n",
       "      <th></th>\n",
       "      <th></th>\n",
       "      <th></th>\n",
       "      <th></th>\n",
       "      <th></th>\n",
       "      <th></th>\n",
       "      <th></th>\n",
       "      <th></th>\n",
       "      <th></th>\n",
       "      <th></th>\n",
       "    </tr>\n",
       "  </thead>\n",
       "  <tbody>\n",
       "    <tr>\n",
       "      <th>0</th>\n",
       "      <td>4208</td>\n",
       "      <td>4208</td>\n",
       "      <td>4208</td>\n",
       "      <td>4208</td>\n",
       "      <td>4208</td>\n",
       "      <td>4208</td>\n",
       "      <td>4208</td>\n",
       "      <td>4208</td>\n",
       "      <td>4208</td>\n",
       "      <td>4208</td>\n",
       "      <td>...</td>\n",
       "      <td>4208</td>\n",
       "      <td>4208</td>\n",
       "      <td>4208</td>\n",
       "      <td>4208</td>\n",
       "      <td>4208</td>\n",
       "      <td>4208</td>\n",
       "      <td>4208</td>\n",
       "      <td>4208</td>\n",
       "      <td>4208</td>\n",
       "      <td>4208</td>\n",
       "    </tr>\n",
       "    <tr>\n",
       "      <th>1</th>\n",
       "      <td>3916</td>\n",
       "      <td>3916</td>\n",
       "      <td>3916</td>\n",
       "      <td>3916</td>\n",
       "      <td>3916</td>\n",
       "      <td>3916</td>\n",
       "      <td>3916</td>\n",
       "      <td>3916</td>\n",
       "      <td>3916</td>\n",
       "      <td>3916</td>\n",
       "      <td>...</td>\n",
       "      <td>3916</td>\n",
       "      <td>3916</td>\n",
       "      <td>3916</td>\n",
       "      <td>3916</td>\n",
       "      <td>3916</td>\n",
       "      <td>3916</td>\n",
       "      <td>3916</td>\n",
       "      <td>3916</td>\n",
       "      <td>3916</td>\n",
       "      <td>3916</td>\n",
       "    </tr>\n",
       "  </tbody>\n",
       "</table>\n",
       "<p>2 rows × 21 columns</p>\n",
       "</div>"
      ],
      "text/plain": [
       "       cap-shape  cap-surface  cap-color  bruises  odor  gill-attachment  \\\n",
       "class                                                                      \n",
       "0           4208         4208       4208     4208  4208             4208   \n",
       "1           3916         3916       3916     3916  3916             3916   \n",
       "\n",
       "       gill-spacing  gill-size  gill-color  stalk-shape  ...  \\\n",
       "class                                                    ...   \n",
       "0              4208       4208        4208         4208  ...   \n",
       "1              3916       3916        3916         3916  ...   \n",
       "\n",
       "       stalk-surface-above-ring  stalk-surface-below-ring  \\\n",
       "class                                                       \n",
       "0                          4208                      4208   \n",
       "1                          3916                      3916   \n",
       "\n",
       "       stalk-color-above-ring  stalk-color-below-ring  veil-color  \\\n",
       "class                                                               \n",
       "0                        4208                    4208        4208   \n",
       "1                        3916                    3916        3916   \n",
       "\n",
       "       ring-number  ring-type  spore-print-color  population  habitat  \n",
       "class                                                                  \n",
       "0             4208       4208               4208        4208     4208  \n",
       "1             3916       3916               3916        3916     3916  \n",
       "\n",
       "[2 rows x 21 columns]"
      ]
     },
     "execution_count": 74,
     "metadata": {},
     "output_type": "execute_result"
    }
   ],
   "source": [
    "df.groupby(\"class\").count()"
   ]
  },
  {
   "cell_type": "code",
   "execution_count": null,
   "id": "a69d03b4-0e08-429a-9ee8-f155bbd0049c",
   "metadata": {},
   "outputs": [],
   "source": []
  },
  {
   "cell_type": "markdown",
   "id": "d9fcba99-93aa-402d-a8c1-932f62db8e17",
   "metadata": {
    "tags": []
   },
   "source": [
    "# 3: PERFORM DATA VISUALIZATION"
   ]
  },
  {
   "cell_type": "code",
   "execution_count": 11,
   "id": "07dad5c6-c427-43b8-94b9-b40cd720e3fa",
   "metadata": {},
   "outputs": [],
   "source": [
    "X_columns = df.columns[1:]\n",
    "y_column = 'class'"
   ]
  },
  {
   "cell_type": "code",
   "execution_count": 12,
   "id": "2493cbcd-f0f6-43c1-8ebc-e75533dbfdb2",
   "metadata": {},
   "outputs": [
    {
     "data": {
      "image/png": "[encoded data removed]",
      "text/plain": [
       "<Figure size 1728x1152 with 21 Axes>"
      ]
     },
     "metadata": {
      "needs_background": "dark"
     },
     "output_type": "display_data"
    }
   ],
   "source": [
    "plt.subplots(3,7, figsize = (24,16))\n",
    "\n",
    "for i in range(len(X_columns)):\n",
    "    plt.subplot(3,7,i+1)\n",
    "    sns.countplot(data = df, x = X_columns[i], hue = 'class')\n",
    "    \n",
    "plt.show()"
   ]
  },
  {
   "cell_type": "code",
   "execution_count": null,
   "id": "69e76cab-6300-4236-aaaa-b65c6e229502",
   "metadata": {},
   "outputs": [],
   "source": []
  },
  {
   "cell_type": "code",
   "execution_count": null,
   "id": "2eff284a-4a1a-47a7-9d37-a29c1eb0c09b",
   "metadata": {},
   "outputs": [],
   "source": []
  },
  {
   "cell_type": "markdown",
   "id": "1e2c9f9d-fc8d-4bad-9839-bd73d482c8c6",
   "metadata": {},
   "source": [
    "# 4: Clustering"
   ]
  },
  {
   "cell_type": "markdown",
   "id": "074823a6-6cc9-421c-ba20-bc3e9dd492e3",
   "metadata": {},
   "source": [
    "## 4.0:  Data preprocessing"
   ]
  },
  {
   "cell_type": "code",
   "execution_count": 22,
   "id": "50ed65df-e5a3-4059-96b7-edd4c0a657ec",
   "metadata": {},
   "outputs": [],
   "source": [
    "# Encoding\n",
    "\n",
    "o_enc = OrdinalEncoder()\n",
    "l_enc = LabelEncoder()\n",
    "\n",
    "df[X_columns] = o_enc.fit_transform(df[X_columns])\n",
    "df[y_column] = l_enc.fit_transform(df[y_column])\n",
    "\n",
    "\n",
    "X = df.drop(['class'], axis = 1)\n",
    "labels_true= df['class']\n"
   ]
  },
  {
   "cell_type": "code",
   "execution_count": 23,
   "id": "c41b9a8e-320a-4001-b4ac-7e1066e10c9d",
   "metadata": {},
   "outputs": [
    {
     "data": {
      "text/plain": [
       "array([1, 0])"
      ]
     },
     "execution_count": 23,
     "metadata": {},
     "output_type": "execute_result"
    }
   ],
   "source": [
    "labels_true.unique()"
   ]
  },
  {
   "cell_type": "code",
   "execution_count": 24,
   "id": "ecb558f2-c13b-46b6-9f07-4986c8b597f2",
   "metadata": {},
   "outputs": [],
   "source": [
    "#Scaling\n",
    "scaler = StandardScaler()\n",
    "\n",
    "scaled_X = scaler.fit_transform(X)\n"
   ]
  },
  {
   "cell_type": "code",
   "execution_count": 25,
   "id": "d4455aa0-9b3d-45c8-937c-3906f08a9cf6",
   "metadata": {},
   "outputs": [
    {
     "data": {
      "text/plain": [
       "(8124, 21)"
      ]
     },
     "execution_count": 25,
     "metadata": {},
     "output_type": "execute_result"
    }
   ],
   "source": [
    "scaled_X.shape"
   ]
  },
  {
   "cell_type": "code",
   "execution_count": null,
   "id": "6b42af2f-360b-4464-ae17-f38a344fcd12",
   "metadata": {},
   "outputs": [],
   "source": []
  },
  {
   "cell_type": "markdown",
   "id": "0d8b860e-e460-44e9-9f97-064b4db69e2c",
   "metadata": {},
   "source": [
    "## 4.1: Clustering using k-means\n"
   ]
  },
  {
   "cell_type": "code",
   "execution_count": 26,
   "id": "1a650474-7353-4bbd-b583-185758f748e6",
   "metadata": {},
   "outputs": [
    {
     "data": {
      "text/html": [
       "<style>#sk-container-id-1 {color: black;background-color: white;}#sk-container-id-1 pre{padding: 0;}#sk-container-id-1 div.sk-toggleable {background-color: white;}#sk-container-id-1 label.sk-toggleable__label {cursor: pointer;display: block;width: 100%;margin-bottom: 0;padding: 0.3em;box-sizing: border-box;text-align: center;}#sk-container-id-1 label.sk-toggleable__label-arrow:before {content: \"▸\";float: left;margin-right: 0.25em;color: #696969;}#sk-container-id-1 label.sk-toggleable__label-arrow:hover:before {color: black;}#sk-container-id-1 div.sk-estimator:hover label.sk-toggleable__label-arrow:before {color: black;}#sk-container-id-1 div.sk-toggleable__content {max-height: 0;max-width: 0;overflow: hidden;text-align: left;background-color: #f0f8ff;}#sk-container-id-1 div.sk-toggleable__content pre {margin: 0.2em;color: black;border-radius: 0.25em;background-color: #f0f8ff;}#sk-container-id-1 input.sk-toggleable__control:checked~div.sk-toggleable__content {max-height: 200px;max-width: 100%;overflow: auto;}#sk-container-id-1 input.sk-toggleable__control:checked~label.sk-toggleable__label-arrow:before {content: \"▾\";}#sk-container-id-1 div.sk-estimator input.sk-toggleable__control:checked~label.sk-toggleable__label {background-color: #d4ebff;}#sk-container-id-1 div.sk-label input.sk-toggleable__control:checked~label.sk-toggleable__label {background-color: #d4ebff;}#sk-container-id-1 input.sk-hidden--visually {border: 0;clip: rect(1px 1px 1px 1px);clip: rect(1px, 1px, 1px, 1px);height: 1px;margin: -1px;overflow: hidden;padding: 0;position: absolute;width: 1px;}#sk-container-id-1 div.sk-estimator {font-family: monospace;background-color: #f0f8ff;border: 1px dotted black;border-radius: 0.25em;box-sizing: border-box;margin-bottom: 0.5em;}#sk-container-id-1 div.sk-estimator:hover {background-color: #d4ebff;}#sk-container-id-1 div.sk-parallel-item::after {content: \"\";width: 100%;border-bottom: 1px solid gray;flex-grow: 1;}#sk-container-id-1 div.sk-label:hover label.sk-toggleable__label {background-color: #d4ebff;}#sk-container-id-1 div.sk-serial::before {content: \"\";position: absolute;border-left: 1px solid gray;box-sizing: border-box;top: 0;bottom: 0;left: 50%;z-index: 0;}#sk-container-id-1 div.sk-serial {display: flex;flex-direction: column;align-items: center;background-color: white;padding-right: 0.2em;padding-left: 0.2em;position: relative;}#sk-container-id-1 div.sk-item {position: relative;z-index: 1;}#sk-container-id-1 div.sk-parallel {display: flex;align-items: stretch;justify-content: center;background-color: white;position: relative;}#sk-container-id-1 div.sk-item::before, #sk-container-id-1 div.sk-parallel-item::before {content: \"\";position: absolute;border-left: 1px solid gray;box-sizing: border-box;top: 0;bottom: 0;left: 50%;z-index: -1;}#sk-container-id-1 div.sk-parallel-item {display: flex;flex-direction: column;z-index: 1;position: relative;background-color: white;}#sk-container-id-1 div.sk-parallel-item:first-child::after {align-self: flex-end;width: 50%;}#sk-container-id-1 div.sk-parallel-item:last-child::after {align-self: flex-start;width: 50%;}#sk-container-id-1 div.sk-parallel-item:only-child::after {width: 0;}#sk-container-id-1 div.sk-dashed-wrapped {border: 1px dashed gray;margin: 0 0.4em 0.5em 0.4em;box-sizing: border-box;padding-bottom: 0.4em;background-color: white;}#sk-container-id-1 div.sk-label label {font-family: monospace;font-weight: bold;display: inline-block;line-height: 1.2em;}#sk-container-id-1 div.sk-label-container {text-align: center;}#sk-container-id-1 div.sk-container {/* jupyter's `normalize.less` sets `[hidden] { display: none; }` but bootstrap.min.css set `[hidden] { display: none !important; }` so we also need the `!important` here to be able to override the default hidden behavior on the sphinx rendered scikit-learn.org. See: https://github.com/scikit-learn/scikit-learn/issues/21755 */display: inline-block !important;position: relative;}#sk-container-id-1 div.sk-text-repr-fallback {display: none;}</style><div id=\"sk-container-id-1\" class=\"sk-top-container\"><div class=\"sk-text-repr-fallback\"><pre>KMeans(n_clusters=2)</pre><b>In a Jupyter environment, please rerun this cell to show the HTML representation or trust the notebook. <br />On GitHub, the HTML representation is unable to render, please try loading this page with nbviewer.org.</b></div><div class=\"sk-container\" hidden><div class=\"sk-item\"><div class=\"sk-estimator sk-toggleable\"><input class=\"sk-toggleable__control sk-hidden--visually\" id=\"sk-estimator-id-1\" type=\"checkbox\" checked><label for=\"sk-estimator-id-1\" class=\"sk-toggleable__label sk-toggleable__label-arrow\">KMeans</label><div class=\"sk-toggleable__content\"><pre>KMeans(n_clusters=2)</pre></div></div></div></div></div>"
      ],
      "text/plain": [
       "KMeans(n_clusters=2)"
      ]
     },
     "execution_count": 26,
     "metadata": {},
     "output_type": "execute_result"
    }
   ],
   "source": [
    "kmeans = KMeans(2)\n",
    "kmeans.fit(scaled_X)"
   ]
  },
  {
   "cell_type": "code",
   "execution_count": 27,
   "id": "355b8e5c-350b-4eec-8aa5-d232cdddc7f5",
   "metadata": {},
   "outputs": [
    {
     "data": {
      "text/plain": [
       "array([0, 0, 0, ..., 0, 1, 0], dtype=int32)"
      ]
     },
     "execution_count": 27,
     "metadata": {},
     "output_type": "execute_result"
    }
   ],
   "source": [
    "kmeans_labels_pred = kmeans.labels_\n",
    "kmeans_labels_pred"
   ]
  },
  {
   "cell_type": "code",
   "execution_count": null,
   "id": "2c291018-91b6-4ad5-8dd6-528c0fbb32e6",
   "metadata": {},
   "outputs": [],
   "source": []
  },
  {
   "cell_type": "markdown",
   "id": "8f656292-dd7d-41eb-957f-7c5d9a22ad5d",
   "metadata": {},
   "source": [
    "## 4.2: Clustering using ROCK by one-hot encoding"
   ]
  },
  {
   "cell_type": "code",
   "execution_count": 28,
   "id": "05af1cbb-55d8-4ecc-be75-e54978e7e956",
   "metadata": {},
   "outputs": [],
   "source": [
    "from pyclustering.cluster.rock import rock"
   ]
  },
  {
   "cell_type": "raw",
   "id": "25075363-34ea-4059-a190-bf0bef1ab0aa",
   "metadata": {},
   "source": [
    "Constructor of clustering algorithm ROCK.\n",
    "\n",
    "def pyclustering.cluster.rock.rock.__init__\t(\t \tself,\n",
    " \tdata,\n",
    " \teps,\n",
    " \tnumber_clusters,\n",
    " \tthreshold = 0.5,\n",
    " \tccore = True \n",
    ")\t\t\n",
    "\n",
    "Parameters\n",
    "[in]\tdata\t(list): Input data - list of points where each point is represented by list of coordinates.\n",
    "[in]\teps\t(double): Connectivity radius (similarity threshold), points are neighbors if distance between them is less than connectivity radius.\n",
    "[in]\tnumber_clusters\t(uint): Defines number of clusters that should be allocated from the input data set.\n",
    "[in]\tthreshold\t(double): Value that defines degree of normalization that influences on choice of clusters for merging during processing.\n",
    "[in]\tccore\t(bool): Defines should be CCORE (C++ pyclustering library) used instead of Python code or not."
   ]
  },
  {
   "cell_type": "code",
   "execution_count": 29,
   "id": "20840118-adc0-4013-9c53-07e71a893177",
   "metadata": {},
   "outputs": [],
   "source": [
    "# Create an instance of the ROCK algorithm for cluster analysis. Two clusters should be allocated.\n",
    "rock_instance = rock(scaled_X, 1.0, 2, threshold=0.8)\n",
    "# EPS: similarity threshold\n",
    "# number_clusters"
   ]
  },
  {
   "cell_type": "code",
   "execution_count": 30,
   "id": "69e84ac6-16d8-4195-8f47-bffd784dd576",
   "metadata": {},
   "outputs": [
    {
     "data": {
      "text/plain": [
       "<pyclustering.cluster.rock.rock at 0x7f45813697f0>"
      ]
     },
     "execution_count": 30,
     "metadata": {},
     "output_type": "execute_result"
    }
   ],
   "source": [
    "\n",
    "# Run cluster analysis.\n",
    "rock_instance.process()\n"
   ]
  },
  {
   "cell_type": "code",
   "execution_count": 35,
   "id": "fbed818e-c712-4362-8e1f-7d8a1136bbe3",
   "metadata": {},
   "outputs": [
    {
     "data": {
      "text/plain": [
       "877"
      ]
     },
     "execution_count": 35,
     "metadata": {},
     "output_type": "execute_result"
    }
   ],
   "source": [
    "# Obtain results of clustering.\n",
    "rock_labels_pred = rock_instance.get_clusters()\n",
    "len(rock_labels_pred)"
   ]
  },
  {
   "cell_type": "code",
   "execution_count": 65,
   "id": "21c2362d-5da7-474f-83e4-5c6f9b882323",
   "metadata": {},
   "outputs": [
    {
     "data": {
      "text/plain": [
       "(8124,)"
      ]
     },
     "execution_count": 65,
     "metadata": {},
     "output_type": "execute_result"
    }
   ],
   "source": [
    "rock_labels_pred_class = np.full((8124), -1)\n",
    "rock_labels_pred_class.shape"
   ]
  },
  {
   "cell_type": "code",
   "execution_count": 77,
   "id": "d240d71f-739b-4e33-a145-ee42ce68cd08",
   "metadata": {},
   "outputs": [
    {
     "data": {
      "text/plain": [
       "4208"
      ]
     },
     "execution_count": 77,
     "metadata": {},
     "output_type": "execute_result"
    }
   ],
   "source": [
    "index = [2, 30, 52, 438, 596, 647, 651, 848, 1082, 771, 39, 129, 215, 331, 716, 808, 955, 1318, 24, 62, 160, 186, 452, 454, 1551, 22, 255, 306, 703, 706, 1199, 2029, 7, 34, 107, 284, 377, 388, 479, 1086, 63, 71, 141, 546, 597, 1176, 1436, 1564]\n",
    "\n",
    "for sub_list in rock_labels_pred:\n",
    "    rock_labels_pred_class[sub_list] = df[\"class\"].loc[sub_list]\n",
    "    \n",
    "np.count_nonzero(rock_labels_pred_class==0)\n"
   ]
  },
  {
   "cell_type": "code",
   "execution_count": null,
   "id": "23550ebb-0c86-4bd9-98c0-dde6c9f81102",
   "metadata": {},
   "outputs": [],
   "source": [
    "with open(r'rock_labels_pred.txt', 'w') as fp:\n",
    "    fp.write(\"%s\\n\" % item)\n",
    "    print('Done')"
   ]
  },
  {
   "cell_type": "code",
   "execution_count": 79,
   "id": "92874060-ee6f-4a27-b60b-e7eee35bd88f",
   "metadata": {},
   "outputs": [
    {
     "ename": "ModuleNotFoundError",
     "evalue": "No module named 'cluster_visualizer'",
     "output_type": "error",
     "traceback": [
      "\u001b[0;31m---------------------------------------------------------------------------\u001b[0m",
      "\u001b[0;31mModuleNotFoundError\u001b[0m                       Traceback (most recent call last)",
      "Input \u001b[0;32mIn [79]\u001b[0m, in \u001b[0;36m<cell line: 2>\u001b[0;34m()\u001b[0m\n\u001b[1;32m      1\u001b[0m \u001b[38;5;66;03m# Visualize clustering results.\u001b[39;00m\n\u001b[0;32m----> 2\u001b[0m \u001b[38;5;28;01mimport\u001b[39;00m \u001b[38;5;21;01mcluster_visualizer\u001b[39;00m\n\u001b[1;32m      3\u001b[0m visualizer \u001b[38;5;241m=\u001b[39m cluster_visualizer()\n\u001b[1;32m      4\u001b[0m visualizer\u001b[38;5;241m.\u001b[39mappend_clusters(rock_labels_pred_class, X)\n",
      "\u001b[0;31mModuleNotFoundError\u001b[0m: No module named 'cluster_visualizer'"
     ]
    }
   ],
   "source": [
    "# Visualize clustering results.\n",
    "import cluster_visualizer\n",
    "visualizer = cluster_visualizer()\n",
    "visualizer.append_clusters(rock_labels_pred_class, X)\n",
    "visualizer.show()"
   ]
  },
  {
   "cell_type": "code",
   "execution_count": null,
   "id": "69fe53b0-b753-437e-9f60-3c3d6b112315",
   "metadata": {},
   "outputs": [],
   "source": []
  },
  {
   "cell_type": "code",
   "execution_count": null,
   "id": "61d54d49-a184-4ee8-9bf5-aaf0bdbe0237",
   "metadata": {},
   "outputs": [],
   "source": []
  },
  {
   "cell_type": "code",
   "execution_count": null,
   "id": "c9716588-012e-4df7-a973-4a4a08490253",
   "metadata": {},
   "outputs": [],
   "source": []
  },
  {
   "cell_type": "markdown",
   "id": "42055bd6-13da-449e-b50b-b351411a745a",
   "metadata": {},
   "source": [
    "# 5: Clustering performance evaluation"
   ]
  },
  {
   "cell_type": "markdown",
   "id": "4a99e877-46f5-4397-bca1-cd1778ef3f67",
   "metadata": {},
   "source": [
    "## 5.1: Purity"
   ]
  },
  {
   "cell_type": "code",
   "execution_count": 80,
   "id": "1f880e8b-2b5e-494b-b0a4-2693368863cb",
   "metadata": {},
   "outputs": [],
   "source": [
    "from sklearn import metrics\n",
    "\n",
    "def purity_score(y_true, y_pred):\n",
    "    # compute contingency matrix (also called confusion matrix)\n",
    "    contingency_matrix = metrics.cluster.contingency_matrix(y_true, y_pred)\n",
    "    # return purity\n",
    "    return np.sum(np.amax(contingency_matrix, axis=0)) / np.sum(contingency_matrix) "
   ]
  },
  {
   "cell_type": "code",
   "execution_count": 81,
   "id": "a58edcb1-029b-490b-9588-776ca14c327c",
   "metadata": {},
   "outputs": [
    {
     "data": {
      "text/plain": [
       "0.7291974396848843"
      ]
     },
     "execution_count": 81,
     "metadata": {},
     "output_type": "execute_result"
    }
   ],
   "source": [
    "purity_score(labels_true, kmeans_labels_pred)"
   ]
  },
  {
   "cell_type": "code",
   "execution_count": 82,
   "id": "16e6dd8e-d8c4-4863-ab87-5eaf0879c8de",
   "metadata": {},
   "outputs": [
    {
     "data": {
      "text/plain": [
       "1.0"
      ]
     },
     "execution_count": 82,
     "metadata": {},
     "output_type": "execute_result"
    }
   ],
   "source": [
    "purity_score(labels_true, rock_labels_pred_class)"
   ]
  },
  {
   "cell_type": "code",
   "execution_count": null,
   "id": "55ca9b5a-33c5-4705-ab5d-5c51b9edd6f4",
   "metadata": {},
   "outputs": [],
   "source": []
  },
  {
   "cell_type": "code",
   "execution_count": null,
   "id": "785d321e-2b66-4f74-83d7-85b8a6a97bc2",
   "metadata": {},
   "outputs": [],
   "source": []
  }
 ],
 "metadata": {
  "kernelspec": {
   "display_name": "Python 3 (ipykernel)",
   "language": "python",
   "name": "python3"
  },
  "language_info": {
   "codemirror_mode": {
    "name": "ipython",
    "version": 3
   },
   "file_extension": ".py",
   "mimetype": "text/x-python",
   "name": "python",
   "nbconvert_exporter": "python",
   "pygments_lexer": "ipython3",
   "version": "3.8.10"
  }
 },
 "nbformat": 4,
 "nbformat_minor": 5
}
